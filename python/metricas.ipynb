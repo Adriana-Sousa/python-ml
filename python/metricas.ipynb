{
 "cells": [
  {
   "cell_type": "markdown",
   "id": "4266eb3b",
   "metadata": {},
   "source": [
    "# Acurácia"
   ]
  },
  {
   "cell_type": "markdown",
   "id": "7730ea43",
   "metadata": {},
   "source": [
    "Desafio\n",
    "Dadas n matrizes de confusão, crie um algoritmo que determine qual delas possui a maior acurácia (accuracy).\n",
    "\n",
    "A acurácia é calculada por: accuracy = (TP + TN) / (TP + FP + FN + TN)\n",
    "\n",
    "Retorne o índice e o valor da acurácia da matriz vencedora.\n",
    "\n",
    "Entrada\n",
    "Uma string contendo:\n",
    "\n",
    "Um inteiro n (quantidade de matrizes).\n",
    "Em seguida, exatamente n linhas, cada uma com quatro inteiros no formato TP,FP,FN,TN.\n",
    "Saída\n",
    "Index: X — onde X é o índice da matriz com maior acurácia.\n",
    "Accuracy: Y — onde Y é a acurácia da matriz vencedora, arredondada para duas casas decimais (remova zeros finais desnecessários)."
   ]
  },
  {
   "cell_type": "code",
   "execution_count": null,
   "id": "0ad5ee49",
   "metadata": {
    "vscode": {
     "languageId": "plaintext"
    }
   },
   "outputs": [],
   "source": [
    "def main() -> None:\n",
    "    # Lê a quantidade de matrizes\n",
    "    n = int(input().strip())\n",
    "    \n",
    "    best_accuracy = -1.0   # melhor acurácia encontrada\n",
    "    best_index = -1        # índice da melhor matriz (inicia em 0)\n",
    "    \n",
    "    # Percorre cada matriz\n",
    "    for idx in range(n):\n",
    "        # Lê e separa os valores TP, FP, FN, TN\n",
    "        tp, fp, fn, tn = map(int, input().strip().split(','))\n",
    "\n",
    "        # TODO: Calcule a acurácia\n",
    "        accuracy = (tp+tn)/(tp+fp+fn+tn)\n",
    "        \n",
    "        # Atualiza a melhor acurácia, se necessário\n",
    "        if accuracy > best_accuracy:\n",
    "            best_accuracy = accuracy\n",
    "            best_index = idx\n",
    "                \n",
    "    # Formata a acurácia para remover zeros finais e ponto desnecessário\n",
    "    accuracy_str = f\"{best_accuracy:.2f}\".rstrip('0').rstrip('.')\n",
    "    \n",
    "    # Imprime o resultado\n",
    "    print(f\"Index: {best_index}\")\n",
    "    print(f\"Accuracy: {accuracy_str}\")\n",
    "\n",
    "if __name__ == \"__main__\":\n",
    "    main()"
   ]
  },
  {
   "cell_type": "markdown",
   "id": "5be6d25f",
   "metadata": {},
   "source": [
    "# Precisão"
   ]
  },
  {
   "cell_type": "markdown",
   "id": "52434037",
   "metadata": {},
   "source": [
    "Desafio\n",
    "Dadas n matrizes de confusão, crie um algoritmo que determine qual delas possui a maior precisão (precision).\n",
    "\n",
    "A precisão é calculada por: precision = TP / (TP + FP)\n",
    "\n",
    "Retorne o índice e o valor da precisão da matriz vencedora.\n",
    "\n",
    "Entrada\n",
    "Uma string contendo:\n",
    "\n",
    "Um inteiro n (quantidade de matrizes).\n",
    "Em seguida, exatamente n linhas, cada uma com quatro inteiros no formato TP,FP,FN,TN.\n",
    "Saída\n",
    "Index: X — onde X é o índice da matriz com maior precisão.\n",
    "Precision: Y — onde Y é a precisão da matriz vencedora, arredondada para duas casas decimais (remova zeros finais desnecessários)."
   ]
  },
  {
   "cell_type": "code",
   "execution_count": null,
   "id": "716e1276",
   "metadata": {
    "vscode": {
     "languageId": "plaintext"
    }
   },
   "outputs": [],
   "source": [
    "def main() -> None:\n",
    "    # Lê a quantidade de matrizes\n",
    "    n = int(input().strip())\n",
    "    \n",
    "    best_precision = -1.0  # melhor precisão encontrada\n",
    "    best_index = -1        # índice da melhor matriz (inicia em 0)\n",
    "    \n",
    "    # Percorre cada matriz\n",
    "    for idx in range(n):\n",
    "        # Lê e separa os valores TP, FP, FN, TN\n",
    "        tp, fp, fn, tn = map(int, input().strip().split(','))\n",
    "\n",
    "        # TODO: Calcule a precisão\n",
    "        precision = tp / (tp + fp)\n",
    "\n",
    "        # Atualiza a melhor precisão, se necessário\n",
    "        if precision > best_precision:\n",
    "            best_precision = precision\n",
    "            best_index = idx\n",
    "    \n",
    "    # Formata a precisão para remover zeros finais e ponto desnecessário\n",
    "    precision_str = f\"{best_precision:.2f}\".rstrip('0').rstrip('.')\n",
    "    \n",
    "    # Imprime o resultado\n",
    "    print(f\"Index: {best_index}\")\n",
    "    print(f\"Precision: {precision_str}\")\n",
    "\n",
    "if __name__ == \"__main__\":\n",
    "    main()"
   ]
  },
  {
   "cell_type": "markdown",
   "id": "6d2b6b9d",
   "metadata": {},
   "source": [
    "# Taxa de falsos positivos"
   ]
  },
  {
   "cell_type": "markdown",
   "id": "ea0365fa",
   "metadata": {},
   "source": [
    "Desafio\n",
    "Sua missão é desenvolver um algoritmo que analise n matrizes de confusão e selecione aquela com a menor Taxa de Falsos Positivos (FPR).\n",
    "\n",
    "A fórmula da FPR (False Positive Rate) é: FPR = FP / (FP + TN)\n",
    "\n",
    "Entrada\n",
    "Uma string contendo:\n",
    "\n",
    "Um número inteiro n, indicando o número de matrizes.\n",
    "Em seguida, n linhas com 4 valores inteiros cada, separados por vírgula, representando: TP,FP,FN,TN.\n",
    "Saída\n",
    "Index: X — onde X é o índice da matriz com menor FPR (início em 0).\n",
    "FPR: Y — a taxa de falsos positivos da matriz selecionada, com no máximo duas casas decimais (sem zeros finais desnecessários)."
   ]
  },
  {
   "cell_type": "code",
   "execution_count": null,
   "id": "febdd5fc",
   "metadata": {
    "vscode": {
     "languageId": "plaintext"
    }
   },
   "outputs": [],
   "source": [
    "def main() -> None:\n",
    "    # Lê a quantidade de matrizes\n",
    "    n = int(input().strip())\n",
    "\n",
    "    best_fpr = float('inf')  # menor FPR encontrado\n",
    "    best_index = -1          # índice correspondente à menor FPR\n",
    "\n",
    "    # Itera sobre cada matriz\n",
    "    for idx in range(n):\n",
    "        # Lê e separa os valores da matriz: TP, FP, FN, TN\n",
    "        tp, fp, fn, tn = map(int, input().strip().split(','))\n",
    "\n",
    "        # TODO: Calcule a taxa de falsos positivos\n",
    "        fpr = fp / (fp +tn)\n",
    "\n",
    "        # Atualiza se encontrar FPR menor\n",
    "        if fpr < best_fpr:\n",
    "            best_fpr = fpr\n",
    "            best_index = idx\n",
    "\n",
    "    # Formata a saída removendo zeros finais desnecessários\n",
    "    fpr_str = f\"{best_fpr:.2f}\".rstrip('0').rstrip('.')\n",
    "\n",
    "    # Exibe o resultado\n",
    "    print(f\"Index: {best_index}\")\n",
    "    print(f\"FPR: {fpr_str}\")\n",
    "\n",
    "if __name__ == \"__main__\":\n",
    "    main()"
   ]
  }
 ],
 "metadata": {
  "language_info": {
   "name": "python"
  }
 },
 "nbformat": 4,
 "nbformat_minor": 5
}
